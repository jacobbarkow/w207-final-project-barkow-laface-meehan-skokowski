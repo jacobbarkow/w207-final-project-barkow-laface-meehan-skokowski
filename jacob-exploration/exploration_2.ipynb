{
 "cells": [
  {
   "cell_type": "code",
   "execution_count": 70,
   "metadata": {},
   "outputs": [],
   "source": [
    "# This tells matplotlib not to try opening a new window for each plot.\n",
    "%matplotlib inline\n",
    "\n",
    "# General libraries.\n",
    "import re\n",
    "import numpy as np\n",
    "import pandas as pd\n",
    "import matplotlib.pyplot as plt\n",
    "\n",
    "# SK-learn libraries for learning.\n",
    "from sklearn.pipeline import Pipeline\n",
    "from sklearn.neighbors import KNeighborsClassifier\n",
    "from sklearn.linear_model import LogisticRegression\n",
    "from sklearn.naive_bayes import BernoulliNB\n",
    "from sklearn.naive_bayes import MultinomialNB\n",
    "\n",
    "# SK-learn libraries for evaluation.\n",
    "from sklearn.metrics import confusion_matrix\n",
    "from sklearn import metrics\n",
    "from sklearn.metrics import classification_report\n",
    "\n",
    "# SK-learn library for importing the newsgroup data.\n",
    "from sklearn.datasets import fetch_20newsgroups\n",
    "\n",
    "# SK-learn libraries for feature extraction from text.\n",
    "from sklearn.feature_extraction.text import *\n",
    "\n",
    "from sklearn.utils import shuffle\n",
    "\n",
    "from sklearn import tree\n",
    "from sklearn.decomposition import PCA\n",
    "from sklearn.decomposition import TruncatedSVD\n",
    "\n",
    "from sklearn.ensemble import RandomForestClassifier\n",
    "\n",
    "import nltk\n",
    "\n",
    "np.random.seed(0)"
   ]
  },
  {
   "cell_type": "code",
   "execution_count": 2,
   "metadata": {},
   "outputs": [],
   "source": [
    "# kaggle dataset 1\n",
    "\n",
    "fake_raw = pd.read_csv('Fake.csv')\n",
    "fake_raw['label'] = 'fake'\n",
    "\n",
    "true_raw = pd.read_csv('True.csv')\n",
    "true_raw['label'] = 'true'"
   ]
  },
  {
   "cell_type": "code",
   "execution_count": 3,
   "metadata": {},
   "outputs": [],
   "source": [
    "# kaggle dataset 2\n",
    "\n",
    "raw_2 = pd.read_csv('archive_2/fake_train.csv')"
   ]
  },
  {
   "cell_type": "code",
   "execution_count": 4,
   "metadata": {},
   "outputs": [],
   "source": [
    "raw_2['label'] = np.where(raw_2['label'] == 1, 'true', 'fake')\n"
   ]
  },
  {
   "cell_type": "code",
   "execution_count": 5,
   "metadata": {},
   "outputs": [],
   "source": [
    "# keep only text, title and label and add to full set\n",
    "\n",
    "full_set = fake_raw[['title', 'text', 'label']]\n",
    "full_set = full_set.append(true_raw[['title', 'text', 'label']])\n",
    "full_set = full_set.append(raw_2[['title', 'text', 'label']])"
   ]
  },
  {
   "cell_type": "code",
   "execution_count": 6,
   "metadata": {},
   "outputs": [],
   "source": [
    "full_set = shuffle(full_set)\n",
    "\n",
    "train_data = full_set[:50000]\n",
    "test_data = full_set[50000:60000]\n",
    "dev_data = full_set[60000:]\n",
    "\n",
    "train_text, train_title, train_labels = train_data['text'], train_data['title'], train_data['label']\n",
    "test_text, test_title, test_labels = test_data['text'], test_data['title'], test_data['label']\n",
    "dev_text, dev_title, dev_labels = dev_data['text'], dev_data['title'], dev_data['label']"
   ]
  },
  {
   "cell_type": "code",
   "execution_count": 7,
   "metadata": {},
   "outputs": [
    {
     "data": {
      "text/html": [
       "<div>\n",
       "<style scoped>\n",
       "    .dataframe tbody tr th:only-of-type {\n",
       "        vertical-align: middle;\n",
       "    }\n",
       "\n",
       "    .dataframe tbody tr th {\n",
       "        vertical-align: top;\n",
       "    }\n",
       "\n",
       "    .dataframe thead th {\n",
       "        text-align: right;\n",
       "    }\n",
       "</style>\n",
       "<table border=\"1\" class=\"dataframe\">\n",
       "  <thead>\n",
       "    <tr style=\"text-align: right;\">\n",
       "      <th></th>\n",
       "      <th>title</th>\n",
       "      <th>text</th>\n",
       "      <th>label</th>\n",
       "    </tr>\n",
       "  </thead>\n",
       "  <tbody>\n",
       "    <tr>\n",
       "      <th>470</th>\n",
       "      <td>Georgia Republican Threatens To ‘Disappear’ D...</td>\n",
       "      <td>A furious Georgia Republican issued a horrifyi...</td>\n",
       "      <td>fake</td>\n",
       "    </tr>\n",
       "    <tr>\n",
       "      <th>13972</th>\n",
       "      <td>Philippines' Duterte ditches peace process wit...</td>\n",
       "      <td>MANILA (Reuters) - Philippine President Rodrig...</td>\n",
       "      <td>true</td>\n",
       "    </tr>\n",
       "    <tr>\n",
       "      <th>14882</th>\n",
       "      <td>What Gives? Saudi King Spends A Fortune In 201...</td>\n",
       "      <td>Even though Obama has to pay for anything he w...</td>\n",
       "      <td>fake</td>\n",
       "    </tr>\n",
       "    <tr>\n",
       "      <th>8927</th>\n",
       "      <td>Facebook's political influence under a microscope</td>\n",
       "      <td>(Reuters) - As the U.S. presidential campaign ...</td>\n",
       "      <td>true</td>\n",
       "    </tr>\n",
       "    <tr>\n",
       "      <th>5349</th>\n",
       "      <td>Trump's defense chief says has no problems wit...</td>\n",
       "      <td>ABU DHABI (Reuters) - U.S. Defense Secretary J...</td>\n",
       "      <td>true</td>\n",
       "    </tr>\n",
       "  </tbody>\n",
       "</table>\n",
       "</div>"
      ],
      "text/plain": [
       "                                                   title  \\\n",
       "470     Georgia Republican Threatens To ‘Disappear’ D...   \n",
       "13972  Philippines' Duterte ditches peace process wit...   \n",
       "14882  What Gives? Saudi King Spends A Fortune In 201...   \n",
       "8927   Facebook's political influence under a microscope   \n",
       "5349   Trump's defense chief says has no problems wit...   \n",
       "\n",
       "                                                    text label  \n",
       "470    A furious Georgia Republican issued a horrifyi...  fake  \n",
       "13972  MANILA (Reuters) - Philippine President Rodrig...  true  \n",
       "14882  Even though Obama has to pay for anything he w...  fake  \n",
       "8927   (Reuters) - As the U.S. presidential campaign ...  true  \n",
       "5349   ABU DHABI (Reuters) - U.S. Defense Secretary J...  true  "
      ]
     },
     "execution_count": 7,
     "metadata": {},
     "output_type": "execute_result"
    }
   ],
   "source": [
    "train_data.head()"
   ]
  },
  {
   "cell_type": "code",
   "execution_count": 111,
   "metadata": {},
   "outputs": [
    {
     "name": "stdout",
     "output_type": "stream",
     "text": [
      "(50000, 203765)\n"
     ]
    }
   ],
   "source": [
    "# limiting features because otherwise it takes too long\n",
    "\n",
    "cv_train = CountVectorizer(stop_words=['reuters'])\n",
    "train_text_cv = cv_train.fit_transform(train_text.apply(lambda x: np.str_(x)))\n",
    "test_text_cv = cv_train.transform(test_text.apply(lambda x: np.str_(x)))\n",
    "\n",
    "print(np.shape(train_text_cv))"
   ]
  },
  {
   "cell_type": "code",
   "execution_count": 112,
   "metadata": {},
   "outputs": [
    {
     "data": {
      "text/plain": [
       "DecisionTreeClassifier(max_depth=20)"
      ]
     },
     "execution_count": 112,
     "metadata": {},
     "output_type": "execute_result"
    }
   ],
   "source": [
    "clf = tree.DecisionTreeClassifier(max_depth=20)\n",
    "clf.fit(train_text_cv, train_labels)"
   ]
  },
  {
   "cell_type": "code",
   "execution_count": 113,
   "metadata": {},
   "outputs": [],
   "source": [
    "# fig = plt.figure(figsize=(50,50))\n",
    "# _ = tree.plot_tree(clf, \n",
    "#                    feature_names=cv_train.get_feature_names(),  \n",
    "#                    class_names=clf.classes_,\n",
    "#                    filled=True)"
   ]
  },
  {
   "cell_type": "code",
   "execution_count": 114,
   "metadata": {},
   "outputs": [
    {
     "data": {
      "text/plain": [
       "0.8789"
      ]
     },
     "execution_count": 114,
     "metadata": {},
     "output_type": "execute_result"
    }
   ],
   "source": [
    "clf.score(test_text_cv, test_labels)"
   ]
  },
  {
   "cell_type": "code",
   "execution_count": 115,
   "metadata": {},
   "outputs": [
    {
     "name": "stdout",
     "output_type": "stream",
     "text": [
      "0.878923458046983\n"
     ]
    }
   ],
   "source": [
    "test_predicted = clf.predict(test_text_cv)\n",
    "print(metrics.f1_score(test_labels, test_predicted, average=\"weighted\"))"
   ]
  },
  {
   "cell_type": "markdown",
   "metadata": {},
   "source": [
    "- getting rid of reuters \n",
    "- 10000 features with unrestricted depth gives 0.88 with max depth of 243\n",
    "- limiting max depth to 100 does not change accuracy much\n",
    "- max depth of 20 is still 0.87\n",
    "\n",
    "- unrestricted features with max_depth of 20 gives 0.88"
   ]
  },
  {
   "cell_type": "markdown",
   "metadata": {},
   "source": [
    "## SVD Tests"
   ]
  },
  {
   "cell_type": "code",
   "execution_count": 64,
   "metadata": {},
   "outputs": [],
   "source": [
    "svd = TruncatedSVD(n_components=100, n_iter=7)\n",
    "train_text_svd = svd.fit_transform(train_text_cv)\n",
    "test_text_svd = svd.transform(test_text_cv)"
   ]
  },
  {
   "cell_type": "code",
   "execution_count": 68,
   "metadata": {},
   "outputs": [
    {
     "data": {
      "text/plain": [
       "DecisionTreeClassifier(max_depth=20)"
      ]
     },
     "execution_count": 68,
     "metadata": {},
     "output_type": "execute_result"
    }
   ],
   "source": [
    "clf_svd = tree.DecisionTreeClassifier(max_depth=20)\n",
    "clf_svd.fit(train_text_svd, train_labels)"
   ]
  },
  {
   "cell_type": "code",
   "execution_count": 69,
   "metadata": {},
   "outputs": [
    {
     "name": "stdout",
     "output_type": "stream",
     "text": [
      "0.7563503214547175\n"
     ]
    }
   ],
   "source": [
    "test_predicted_svd = clf_svd.predict(test_text_svd)\n",
    "print(metrics.f1_score(test_labels, test_predicted_svd, average=\"weighted\"))"
   ]
  },
  {
   "cell_type": "markdown",
   "metadata": {},
   "source": [
    "## Random Forest"
   ]
  },
  {
   "cell_type": "code",
   "execution_count": 82,
   "metadata": {},
   "outputs": [
    {
     "data": {
      "text/plain": [
       "RandomForestClassifier(max_depth=20)"
      ]
     },
     "execution_count": 82,
     "metadata": {},
     "output_type": "execute_result"
    }
   ],
   "source": [
    "rfc = RandomForestClassifier(max_depth=20)\n",
    "rfc.fit(train_text_cv, train_labels)"
   ]
  },
  {
   "cell_type": "code",
   "execution_count": 83,
   "metadata": {},
   "outputs": [
    {
     "data": {
      "text/plain": [
       "0.8688"
      ]
     },
     "execution_count": 83,
     "metadata": {},
     "output_type": "execute_result"
    }
   ],
   "source": [
    "rfc.score(test_text_cv, test_labels)"
   ]
  },
  {
   "cell_type": "code",
   "execution_count": 116,
   "metadata": {},
   "outputs": [
    {
     "data": {
      "text/plain": [
       "0.8528"
      ]
     },
     "execution_count": 116,
     "metadata": {},
     "output_type": "execute_result"
    }
   ],
   "source": [
    "rfc_svd = RandomForestClassifier(max_depth=20)\n",
    "rfc_svd.fit(train_text_svd, train_labels)\n",
    "\n",
    "rfc_svd.score(test_text_svd, test_labels)"
   ]
  }
 ],
 "metadata": {
  "kernelspec": {
   "display_name": "Python 3",
   "language": "python",
   "name": "python3"
  },
  "language_info": {
   "codemirror_mode": {
    "name": "ipython",
    "version": 3
   },
   "file_extension": ".py",
   "mimetype": "text/x-python",
   "name": "python",
   "nbconvert_exporter": "python",
   "pygments_lexer": "ipython3",
   "version": "3.8.5"
  }
 },
 "nbformat": 4,
 "nbformat_minor": 4
}
