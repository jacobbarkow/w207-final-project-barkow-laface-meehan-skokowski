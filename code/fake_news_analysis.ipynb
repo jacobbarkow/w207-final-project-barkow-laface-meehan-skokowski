{
 "cells": [
  {
   "cell_type": "code",
   "execution_count": 28,
   "metadata": {},
   "outputs": [
    {
     "name": "stderr",
     "output_type": "stream",
     "text": [
      "[nltk_data] Downloading package stopwords to\n",
      "[nltk_data]     C:\\Users\\jakeb\\AppData\\Roaming\\nltk_data...\n",
      "[nltk_data]   Package stopwords is already up-to-date!\n"
     ]
    }
   ],
   "source": [
    "%matplotlib inline\n",
    "\n",
    "# General libraries.\n",
    "import re\n",
    "import numpy as np\n",
    "import pandas as pd\n",
    "import matplotlib.pyplot as plt\n",
    "\n",
    "# SK-learn libraries for learning.\n",
    "from sklearn.pipeline import Pipeline\n",
    "from sklearn.neighbors import KNeighborsClassifier\n",
    "from sklearn.linear_model import LogisticRegression\n",
    "from sklearn.naive_bayes import BernoulliNB\n",
    "from sklearn.naive_bayes import MultinomialNB\n",
    "\n",
    "# SK-learn libraries for evaluation.\n",
    "from sklearn.metrics import confusion_matrix\n",
    "from sklearn import metrics\n",
    "from sklearn.metrics import classification_report\n",
    "\n",
    "# SK-learn library for importing the newsgroup data.\n",
    "from sklearn.datasets import fetch_20newsgroups\n",
    "\n",
    "# SK-learn libraries for feature extraction from text.\n",
    "from sklearn.feature_extraction.text import *\n",
    "\n",
    "from sklearn.utils import shuffle\n",
    "\n",
    "from sklearn import tree\n",
    "from sklearn.decomposition import PCA\n",
    "from sklearn.decomposition import TruncatedSVD\n",
    "\n",
    "from sklearn.ensemble import RandomForestClassifier\n",
    "\n",
    "import nltk\n",
    "from nltk.corpus import stopwords\n",
    "nltk.download('stopwords')\n",
    "\n",
    "import warnings\n",
    "warnings.filterwarnings('ignore')\n",
    "\n",
    "np.random.seed(0)"
   ]
  },
  {
   "cell_type": "code",
   "execution_count": 29,
   "metadata": {},
   "outputs": [],
   "source": [
    "# kaggle dataset 1\n",
    "\n",
    "fake_raw_1 = pd.read_csv('dataset_1/Fake.csv')\n",
    "fake_raw_1['label'] = 'fake'\n",
    "\n",
    "true_raw_1 = pd.read_csv('dataset_1/True.csv')\n",
    "true_raw_1['label'] = 'true'"
   ]
  },
  {
   "cell_type": "code",
   "execution_count": 30,
   "metadata": {},
   "outputs": [],
   "source": [
    "# kaggle dataset 2\n",
    "\n",
    "raw_2 = pd.read_csv('dataset_2/fake_train.csv')\n",
    "raw_2['label'] = np.where(raw_2['label'] == 1, 'true', 'fake')"
   ]
  },
  {
   "cell_type": "code",
   "execution_count": 40,
   "metadata": {},
   "outputs": [],
   "source": [
    "# dataset 3 - COVID\n",
    "\n",
    "fake_covid = pd.read_csv('dataset_3/fake_covid_dataset.csv')\n",
    "fake_covid_clean = fake_covid.loc[~fake_covid[\"subcategory\"].str.contains(\"partially false\")][[\"title\", \"text\", \"subcategory\"]]\n",
    "fake_covid_clean[\"label\"] = np.where(fake_covid_clean[\"subcategory\"].str.contains(\"false news\"), \"fake\", \"true\")\n",
    "fake_covid_shuffled = fake_covid_clean.sample(frac=1)[[\"title\", \"text\", \"label\"]].reset_index(drop=True)\n",
    "fake_covid_final = pd.concat([fake_covid_shuffled.loc[fake_covid_shuffled[\"label\"]==\"true\"].head(659), fake_covid_shuffled.loc[fake_covid_shuffled[\"label\"]==\"fake\"]]).dropna().reset_index(drop=True)"
   ]
  },
  {
   "cell_type": "code",
   "execution_count": 44,
   "metadata": {},
   "outputs": [
    {
     "name": "stdout",
     "output_type": "stream",
     "text": [
      "(67014, 3)\n"
     ]
    }
   ],
   "source": [
    "# keep only text, title and label and combine to form to full set\n",
    "\n",
    "full_set = fake_raw_1[['title', 'text', 'label']]\n",
    "full_set = full_set.append(true_raw_1[['title', 'text', 'label']])\n",
    "full_set = full_set.append(raw_2[['title', 'text', 'label']])\n",
    "full_set = full_set.append(fake_covid_final[['title', 'text', 'label']])\n",
    "\n",
    "print(full_set.shape)"
   ]
  },
  {
   "cell_type": "code",
   "execution_count": 50,
   "metadata": {},
   "outputs": [],
   "source": [
    "full_set = shuffle(full_set)\n",
    "\n",
    "train_data = full_set[:52000]\n",
    "test_data = full_set[52000:62000]\n",
    "dev_data = full_set[62000:]\n",
    "\n",
    "train_text, train_title, train_labels = train_data['text'], train_data['title'], train_data['label']\n",
    "test_text, test_title, test_labels = test_data['text'], test_data['title'], test_data['label']\n",
    "dev_text, dev_title, dev_labels = dev_data['text'], dev_data['title'], dev_data['label']"
   ]
  },
  {
   "cell_type": "code",
   "execution_count": 51,
   "metadata": {},
   "outputs": [
    {
     "data": {
      "text/html": [
       "<div>\n",
       "<style scoped>\n",
       "    .dataframe tbody tr th:only-of-type {\n",
       "        vertical-align: middle;\n",
       "    }\n",
       "\n",
       "    .dataframe tbody tr th {\n",
       "        vertical-align: top;\n",
       "    }\n",
       "\n",
       "    .dataframe thead th {\n",
       "        text-align: right;\n",
       "    }\n",
       "</style>\n",
       "<table border=\"1\" class=\"dataframe\">\n",
       "  <thead>\n",
       "    <tr style=\"text-align: right;\">\n",
       "      <th></th>\n",
       "      <th>title</th>\n",
       "      <th>text</th>\n",
       "      <th>label</th>\n",
       "    </tr>\n",
       "  </thead>\n",
       "  <tbody>\n",
       "    <tr>\n",
       "      <th>15898</th>\n",
       "      <td>Silicon Valley Slams Elon Musk for Tweeting Re...</td>\n",
       "      <td>Tesla and SpaceX CEO Elon Musk suffered huge  ...</td>\n",
       "      <td>fake</td>\n",
       "    </tr>\n",
       "    <tr>\n",
       "      <th>9257</th>\n",
       "      <td>WATCH: 3 PRESIDENTS Before Trump Promised To M...</td>\n",
       "      <td>On Tuesday, Democratic Senator Dianne Feinstei...</td>\n",
       "      <td>fake</td>\n",
       "    </tr>\n",
       "    <tr>\n",
       "      <th>19711</th>\n",
       "      <td>Rohingya refugees tell of new violence; call f...</td>\n",
       "      <td>COX S BAZAR, Bangladesh (Reuters) - Rohingya M...</td>\n",
       "      <td>true</td>\n",
       "    </tr>\n",
       "    <tr>\n",
       "      <th>19519</th>\n",
       "      <td>Ukraine's Poroshenko rejects Russia's 'hybrid'...</td>\n",
       "      <td>UNITED NATIONS (Reuters) - Ukrainian President...</td>\n",
       "      <td>true</td>\n",
       "    </tr>\n",
       "    <tr>\n",
       "      <th>4944</th>\n",
       "      <td>Florida Republican Has An INSANE Meltdown Aft...</td>\n",
       "      <td>Dan Bongino, a former Secret Service agent, is...</td>\n",
       "      <td>fake</td>\n",
       "    </tr>\n",
       "  </tbody>\n",
       "</table>\n",
       "</div>"
      ],
      "text/plain": [
       "                                                   title  \\\n",
       "15898  Silicon Valley Slams Elon Musk for Tweeting Re...   \n",
       "9257   WATCH: 3 PRESIDENTS Before Trump Promised To M...   \n",
       "19711  Rohingya refugees tell of new violence; call f...   \n",
       "19519  Ukraine's Poroshenko rejects Russia's 'hybrid'...   \n",
       "4944    Florida Republican Has An INSANE Meltdown Aft...   \n",
       "\n",
       "                                                    text label  \n",
       "15898  Tesla and SpaceX CEO Elon Musk suffered huge  ...  fake  \n",
       "9257   On Tuesday, Democratic Senator Dianne Feinstei...  fake  \n",
       "19711  COX S BAZAR, Bangladesh (Reuters) - Rohingya M...  true  \n",
       "19519  UNITED NATIONS (Reuters) - Ukrainian President...  true  \n",
       "4944   Dan Bongino, a former Secret Service agent, is...  fake  "
      ]
     },
     "execution_count": 51,
     "metadata": {},
     "output_type": "execute_result"
    }
   ],
   "source": [
    "train_data.head()"
   ]
  },
  {
   "cell_type": "code",
   "execution_count": 52,
   "metadata": {},
   "outputs": [
    {
     "name": "stdout",
     "output_type": "stream",
     "text": [
      "(52000, 212941)\n"
     ]
    }
   ],
   "source": [
    "# create a CountVectorizer of the training corpus\n",
    "# the nltk list of stopwords is used, and the word 'reuters' is added to avoid overfitting\n",
    "# porterstemmer is used to tokenize the input as well as the stopwords list\n",
    "# the lambda function is used to cast text to strings (causes errors otherwise)\n",
    "\n",
    "def stem_preprocess(word):\n",
    "    ps = nltk.stem.PorterStemmer()\n",
    "    return ps.stem(word)\n",
    "\n",
    "sw = stopwords.words('english')\n",
    "sw.append('reuters')\n",
    "sw_preprocess = sw.copy()\n",
    "\n",
    "for word in sw:\n",
    "    sw_preprocess.append(stem_preprocess(word))\n",
    "\n",
    "cv_train = CountVectorizer(stop_words=sw_preprocess,\n",
    "                          strip_accents='ascii', \n",
    "                          lowercase=True, \n",
    "                          preprocessor=stem_preprocess)\n",
    "train_text_cv = cv_train.fit_transform(train_text.apply(lambda x: np.str_(x)))\n",
    "test_text_cv = cv_train.transform(test_text.apply(lambda x: np.str_(x)))\n",
    "\n",
    "print(np.shape(train_text_cv))"
   ]
  },
  {
   "cell_type": "code",
   "execution_count": 53,
   "metadata": {},
   "outputs": [
    {
     "data": {
      "text/plain": [
       "DecisionTreeClassifier(max_depth=20)"
      ]
     },
     "execution_count": 53,
     "metadata": {},
     "output_type": "execute_result"
    }
   ],
   "source": [
    "# Decision Tree Classifier - Sample\n",
    "\n",
    "clf = tree.DecisionTreeClassifier(max_depth=20)\n",
    "clf.fit(train_text_cv, train_labels)"
   ]
  },
  {
   "cell_type": "code",
   "execution_count": 54,
   "metadata": {},
   "outputs": [
    {
     "data": {
      "text/plain": [
       "0.8674"
      ]
     },
     "execution_count": 54,
     "metadata": {},
     "output_type": "execute_result"
    }
   ],
   "source": [
    "clf.score(test_text_cv, test_labels)"
   ]
  }
 ],
 "metadata": {
  "kernelspec": {
   "display_name": "Python 3",
   "language": "python",
   "name": "python3"
  },
  "language_info": {
   "codemirror_mode": {
    "name": "ipython",
    "version": 3
   },
   "file_extension": ".py",
   "mimetype": "text/x-python",
   "name": "python",
   "nbconvert_exporter": "python",
   "pygments_lexer": "ipython3",
   "version": "3.8.5"
  }
 },
 "nbformat": 4,
 "nbformat_minor": 4
}
