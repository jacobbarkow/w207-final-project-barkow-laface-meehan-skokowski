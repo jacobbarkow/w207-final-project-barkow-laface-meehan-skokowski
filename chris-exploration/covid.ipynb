{
 "cells": [
  {
   "cell_type": "code",
   "execution_count": 22,
   "metadata": {},
   "outputs": [],
   "source": [
    "import matplotlib.pyplot as plt\n",
    "import numpy as np\n",
    "import pandas as pd\n",
    "\n",
    "from nltk.corpus import stopwords\n",
    "from sklearn.feature_extraction.text import *\n",
    "from sklearn.neighbors import KNeighborsClassifier\n",
    "from sklearn.utils import shuffle\n"
   ]
  },
  {
   "cell_type": "code",
   "execution_count": 23,
   "metadata": {},
   "outputs": [
    {
     "data": {
      "text/html": [
       "<div>\n",
       "<style scoped>\n",
       "    .dataframe tbody tr th:only-of-type {\n",
       "        vertical-align: middle;\n",
       "    }\n",
       "\n",
       "    .dataframe tbody tr th {\n",
       "        vertical-align: top;\n",
       "    }\n",
       "\n",
       "    .dataframe thead th {\n",
       "        text-align: right;\n",
       "    }\n",
       "</style>\n",
       "<table border=\"1\" class=\"dataframe\">\n",
       "  <thead>\n",
       "    <tr style=\"text-align: right;\">\n",
       "      <th></th>\n",
       "      <th>title</th>\n",
       "      <th>text</th>\n",
       "      <th>subcategory</th>\n",
       "      <th>label</th>\n",
       "    </tr>\n",
       "  </thead>\n",
       "  <tbody>\n",
       "    <tr>\n",
       "      <th>0</th>\n",
       "      <td>FACEBOOK DELETES MICHIGAN ANTI-LOCKDOWN GROUP ...</td>\n",
       "      <td>Facebook has shuttered a popular group for Mic...</td>\n",
       "      <td>false news</td>\n",
       "      <td>fake</td>\n",
       "    </tr>\n",
       "    <tr>\n",
       "      <th>1</th>\n",
       "      <td>Other Viewpoints: COVID-19 is worse than the flu</td>\n",
       "      <td>We can now officially put to rest all comparis...</td>\n",
       "      <td>true</td>\n",
       "      <td>true</td>\n",
       "    </tr>\n",
       "    <tr>\n",
       "      <th>2</th>\n",
       "      <td>Bermuda's COVID-19 cases surpass 100</td>\n",
       "      <td>The Ministry of Health in Bermuda has confirme...</td>\n",
       "      <td>true</td>\n",
       "      <td>true</td>\n",
       "    </tr>\n",
       "    <tr>\n",
       "      <th>4</th>\n",
       "      <td>THE HIGH COST OF LOCKING DOWN AMERICA: “WE’VE ...</td>\n",
       "      <td>Locking down much of the country may have help...</td>\n",
       "      <td>false news</td>\n",
       "      <td>fake</td>\n",
       "    </tr>\n",
       "    <tr>\n",
       "      <th>5</th>\n",
       "      <td>NY TIMES WORRIES HALF OF AMERICANS WILL REFUSE...</td>\n",
       "      <td>The New York Times has published an article by...</td>\n",
       "      <td>false news</td>\n",
       "      <td>fake</td>\n",
       "    </tr>\n",
       "  </tbody>\n",
       "</table>\n",
       "</div>"
      ],
      "text/plain": [
       "                                               title  \\\n",
       "0  FACEBOOK DELETES MICHIGAN ANTI-LOCKDOWN GROUP ...   \n",
       "1   Other Viewpoints: COVID-19 is worse than the flu   \n",
       "2               Bermuda's COVID-19 cases surpass 100   \n",
       "4  THE HIGH COST OF LOCKING DOWN AMERICA: “WE’VE ...   \n",
       "5  NY TIMES WORRIES HALF OF AMERICANS WILL REFUSE...   \n",
       "\n",
       "                                                text subcategory label  \n",
       "0  Facebook has shuttered a popular group for Mic...  false news  fake  \n",
       "1  We can now officially put to rest all comparis...        true  true  \n",
       "2  The Ministry of Health in Bermuda has confirme...        true  true  \n",
       "4  Locking down much of the country may have help...  false news  fake  \n",
       "5  The New York Times has published an article by...  false news  fake  "
      ]
     },
     "execution_count": 23,
     "metadata": {},
     "output_type": "execute_result"
    }
   ],
   "source": [
    "fake_covid_clean = fake_covid.loc[~fake_covid[\"subcategory\"].str.contains(\"partially false\")][[\"title\", \"text\", \"subcategory\"]]\n",
    "fake_covid_clean[\"label\"] = np.where(fake_covid_clean[\"subcategory\"].str.contains(\"false news\"), \"fake\", \"true\")\n",
    "fake_covid_clean.head()"
   ]
  },
  {
   "cell_type": "code",
   "execution_count": 24,
   "metadata": {},
   "outputs": [
    {
     "data": {
      "text/plain": [
       "true    2061\n",
       "fake     659\n",
       "Name: label, dtype: int64"
      ]
     },
     "execution_count": 24,
     "metadata": {},
     "output_type": "execute_result"
    }
   ],
   "source": [
    "fake_covid_clean[\"label\"].value_counts()"
   ]
  },
  {
   "cell_type": "code",
   "execution_count": 25,
   "metadata": {},
   "outputs": [
    {
     "data": {
      "text/html": [
       "<div>\n",
       "<style scoped>\n",
       "    .dataframe tbody tr th:only-of-type {\n",
       "        vertical-align: middle;\n",
       "    }\n",
       "\n",
       "    .dataframe tbody tr th {\n",
       "        vertical-align: top;\n",
       "    }\n",
       "\n",
       "    .dataframe thead th {\n",
       "        text-align: right;\n",
       "    }\n",
       "</style>\n",
       "<table border=\"1\" class=\"dataframe\">\n",
       "  <thead>\n",
       "    <tr style=\"text-align: right;\">\n",
       "      <th></th>\n",
       "      <th>title</th>\n",
       "      <th>text</th>\n",
       "      <th>label</th>\n",
       "    </tr>\n",
       "  </thead>\n",
       "  <tbody>\n",
       "    <tr>\n",
       "      <th>0</th>\n",
       "      <td>Coronavirus in the UK: Measures and impact of ...</td>\n",
       "      <td>The UK Department of Health has declared the W...</td>\n",
       "      <td>true</td>\n",
       "    </tr>\n",
       "    <tr>\n",
       "      <th>1</th>\n",
       "      <td>FG Budgets N620 Million To Prevent Corona Virus</td>\n",
       "      <td>FG Budgets N620 Million To Prevent Corona Viru...</td>\n",
       "      <td>true</td>\n",
       "    </tr>\n",
       "    <tr>\n",
       "      <th>2</th>\n",
       "      <td>First corona virus death in Hong Kong</td>\n",
       "      <td>China National Health Commission: # coronaviru...</td>\n",
       "      <td>true</td>\n",
       "    </tr>\n",
       "    <tr>\n",
       "      <th>3</th>\n",
       "      <td>F1 China GP 2020 Officially Postponed Due to C...</td>\n",
       "      <td>Home Sports F1 China GP 2020 Officially Postpo...</td>\n",
       "      <td>true</td>\n",
       "    </tr>\n",
       "    <tr>\n",
       "      <th>4</th>\n",
       "      <td>Corona in China: those who not wear masques ja...</td>\n",
       "      <td>In Wuhan in China, the epicenter of the Corona...</td>\n",
       "      <td>true</td>\n",
       "    </tr>\n",
       "  </tbody>\n",
       "</table>\n",
       "</div>"
      ],
      "text/plain": [
       "                                               title  \\\n",
       "0  Coronavirus in the UK: Measures and impact of ...   \n",
       "1    FG Budgets N620 Million To Prevent Corona Virus   \n",
       "2              First corona virus death in Hong Kong   \n",
       "3  F1 China GP 2020 Officially Postponed Due to C...   \n",
       "4  Corona in China: those who not wear masques ja...   \n",
       "\n",
       "                                                text label  \n",
       "0  The UK Department of Health has declared the W...  true  \n",
       "1  FG Budgets N620 Million To Prevent Corona Viru...  true  \n",
       "2  China National Health Commission: # coronaviru...  true  \n",
       "3  Home Sports F1 China GP 2020 Officially Postpo...  true  \n",
       "4  In Wuhan in China, the epicenter of the Corona...  true  "
      ]
     },
     "execution_count": 25,
     "metadata": {},
     "output_type": "execute_result"
    }
   ],
   "source": [
    "fake_covid_shuffled = fake_covid_clean.sample(frac=1)[[\"title\", \"text\", \"label\"]].reset_index(drop=True)\n",
    "fake_covid_final = pd.concat([fake_covid_shuffled.loc[fake_covid_shuffled[\"label\"]==\"true\"].head(659), fake_covid_shuffled.loc[fake_covid_shuffled[\"label\"]==\"fake\"]]).dropna().reset_index(drop=True)\n",
    "fake_covid_final.head()"
   ]
  },
  {
   "cell_type": "code",
   "execution_count": 26,
   "metadata": {},
   "outputs": [],
   "source": [
    "train_data = fake_covid_final[:1000]\n",
    "test_data = fake_covid_final[1000:1200]\n",
    "dev_data = fake_covid_final[1200:]"
   ]
  },
  {
   "cell_type": "code",
   "execution_count": 27,
   "metadata": {},
   "outputs": [],
   "source": [
    "train_text, train_title, train_labels = train_data['text'], train_data['title'], train_data['label']\n",
    "test_text, test_title,  test_labels = test_data['text'], test_data['title'], test_data['label']\n",
    "dev_text, dev_title, dev_labels = dev_data['text'], dev_data['title'], dev_data['label']"
   ]
  },
  {
   "cell_type": "code",
   "execution_count": 28,
   "metadata": {},
   "outputs": [],
   "source": [
    "cv = CountVectorizer(stop_words=set(stopwords.words('english')))\n",
    "covid_cv = cv.fit(fake_covid_final['text'])"
   ]
  },
  {
   "cell_type": "code",
   "execution_count": 29,
   "metadata": {},
   "outputs": [
    {
     "name": "stdout",
     "output_type": "stream",
     "text": [
      "[0.66, 0.84, 0.735, 0.81, 0.71, 0.815, 0.745, 0.785, 0.77, 0.795, 0.735, 0.775, 0.74, 0.765, 0.765, 0.785, 0.77, 0.79, 0.775]\n"
     ]
    },
    {
     "data": {
      "image/png": "[encoded data removed]",
      "text/plain": [
       "<Figure size 432x288 with 1 Axes>"
      ]
     },
     "metadata": {
      "needs_background": "light"
     },
     "output_type": "display_data"
    }
   ],
   "source": [
    "train_text_cv = covid_cv.transform(train_text)\n",
    "test_text_cv = covid_cv.transform(test_text)\n",
    "\n",
    "knn_scores = []\n",
    "for i in range(1, 20):\n",
    "    knn = KNeighborsClassifier(n_neighbors=i)\n",
    "    knn.fit(train_text_cv, train_labels)\n",
    "    knn_scores.append(knn.score(test_text_cv, test_labels))\n",
    "\n",
    "plt.plot(range(1, 20), knn_scores)\n",
    "print(knn_scores)"
   ]
  },
  {
   "cell_type": "code",
   "execution_count": null,
   "metadata": {},
   "outputs": [],
   "source": []
  }
 ],
 "metadata": {
  "interpreter": {
   "hash": "19adf8b198ab046dd58652cb3c7f388101587f61fdc65fe7dfdae197839cbd6b"
  },
  "kernelspec": {
   "display_name": "Python 3.8.3 64-bit ('base': conda)",
   "name": "python3"
  },
  "language_info": {
   "codemirror_mode": {
    "name": "ipython",
    "version": 3
   },
   "file_extension": ".py",
   "mimetype": "text/x-python",
   "name": "python",
   "nbconvert_exporter": "python",
   "pygments_lexer": "ipython3",
   "version": "3.8.3"
  },
  "orig_nbformat": 4
 },
 "nbformat": 4,
 "nbformat_minor": 2
}
